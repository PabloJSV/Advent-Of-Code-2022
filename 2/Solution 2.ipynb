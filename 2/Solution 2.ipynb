{
 "cells": [
  {
   "cell_type": "code",
   "execution_count": 185,
   "metadata": {},
   "outputs": [
    {
     "name": "stdout",
     "output_type": "stream",
     "text": [
      "11150\n"
     ]
    }
   ],
   "source": [
    "total = 0\n",
    "with open('input.txt') as f:\n",
    "    for line in f:\n",
    "        if line[2] == 'X':\n",
    "            total = total + 1\n",
    "        if line[2] == 'Y':\n",
    "            total = total + 2\n",
    "        if line[2] == 'Z':\n",
    "            total = total + 3\n",
    "        if line[0] == 'A':\n",
    "            if line[2] == 'X':\n",
    "                total = total + 3\n",
    "            if line[2] == 'Y':\n",
    "                total = total + 6\n",
    "            if line[2] == 'Z':\n",
    "                total = total + 0\n",
    "        if line[0] == 'B':\n",
    "            if line[2] == 'X':\n",
    "                total = total + 0\n",
    "            if line[2] == 'Y':\n",
    "                total = total + 3\n",
    "            if line[2] == 'Z':\n",
    "                total = total + 6\n",
    "        if line[0] == 'C':\n",
    "            if line[2] == 'X':\n",
    "                total = total + 6\n",
    "            if line[2] == 'Y':\n",
    "                total = total + 0\n",
    "            if line[2] == 'Z':\n",
    "                total = total + 3\n",
    "print(total)"
   ]
  },
  {
   "cell_type": "code",
   "execution_count": 194,
   "metadata": {},
   "outputs": [
    {
     "name": "stdout",
     "output_type": "stream",
     "text": [
      "8295\n"
     ]
    }
   ],
   "source": [
    "# Part 2\n",
    "total = 0\n",
    "with open('input.txt') as f:\n",
    "    for line in f:\n",
    "        if line[2] == 'Z':\n",
    "            total = total + 6\n",
    "            if line[0] == 'A':\n",
    "                total = total + 2\n",
    "            if line[0] == 'B':\n",
    "                total = total + 3\n",
    "            if line[0] == 'C':\n",
    "                total = total + 1\n",
    "        if line[2] == 'Y':\n",
    "            total = total + 3\n",
    "            if line[0] == 'A':\n",
    "                total = total + 1\n",
    "            if line[0] == 'B':\n",
    "                total = total + 2\n",
    "            if line[0] == 'C':\n",
    "                total = total + 3\n",
    "        if line[2] == 'X':\n",
    "            total = total + 0\n",
    "            if line[0] == 'A':\n",
    "                total = total + 3\n",
    "            if line[0] == 'B':\n",
    "                total = total + 1\n",
    "            if line[0] == 'C':\n",
    "                total = total + 2\n",
    "print(total)\n"
   ]
  }
 ],
 "metadata": {
  "kernelspec": {
   "display_name": "Python 3.10.6 64-bit",
   "language": "python",
   "name": "python3"
  },
  "language_info": {
   "codemirror_mode": {
    "name": "ipython",
    "version": 3
   },
   "file_extension": ".py",
   "mimetype": "text/x-python",
   "name": "python",
   "nbconvert_exporter": "python",
   "pygments_lexer": "ipython3",
   "version": "3.10.6"
  },
  "orig_nbformat": 4,
  "vscode": {
   "interpreter": {
    "hash": "bb63a77499ed5899fffa71b49f0fc3f4df2c625891c3993c985b13a523c87e61"
   }
  }
 },
 "nbformat": 4,
 "nbformat_minor": 2
}
