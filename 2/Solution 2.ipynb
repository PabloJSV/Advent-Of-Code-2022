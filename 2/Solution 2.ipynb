{
 "cells": [
  {
   "cell_type": "code",
   "execution_count": 3,
   "metadata": {},
   "outputs": [
    {
     "name": "stdout",
     "output_type": "stream",
     "text": [
      "11150\n"
     ]
    }
   ],
   "source": [
    "# Adding timeit so we can time how fast is this solution\n",
    "from timeit import default_timer as timer\n",
    "from datetime import timedelta\n",
    "start = timer()\n",
    "total = 0\n",
    "\n",
    "# We begin opening input.txt\n",
    "with open('input.txt') as f:\n",
    "    for line in f:\n",
    "        # If the second character is X/Y/Z we add 1, 2, or 3, as each of them correspond to rock, paper, scizzors\n",
    "        if line[2] == 'X':\n",
    "            total = total + 1\n",
    "        if line[2] == 'Y':\n",
    "            total = total + 2\n",
    "        if line[2] == 'Z':\n",
    "            total = total + 3\n",
    "        # Then we implemented the logic for winning, tieing and losing combinations (6, 3, and 1 points)\n",
    "        if line[0] == 'A':\n",
    "            if line[2] == 'X':\n",
    "                total = total + 3\n",
    "            if line[2] == 'Y':\n",
    "                total = total + 6\n",
    "            if line[2] == 'Z':\n",
    "                total = total + 0\n",
    "        if line[0] == 'B':\n",
    "            if line[2] == 'X':\n",
    "                total = total + 0\n",
    "            if line[2] == 'Y':\n",
    "                total = total + 3\n",
    "            if line[2] == 'Z':\n",
    "                total = total + 6\n",
    "        if line[0] == 'C':\n",
    "            if line[2] == 'X':\n",
    "                total = total + 6\n",
    "            if line[2] == 'Y':\n",
    "                total = total + 0\n",
    "            if line[2] == 'Z':\n",
    "                total = total + 3\n",
    "# Finally we print the total amount of points\n",
    "print(total)"
   ]
  },
  {
   "cell_type": "code",
   "execution_count": 4,
   "metadata": {},
   "outputs": [
    {
     "name": "stdout",
     "output_type": "stream",
     "text": [
      "8295\n",
      "0:00:00.079490\n"
     ]
    }
   ],
   "source": [
    "# Part 2\n",
    "# For the second part we need to change the logic a bit\n",
    "# We set the total to 0 again\n",
    "total = 0\n",
    "with open('input.txt') as f:\n",
    "    # Now X means losing, Y means a draw, and Z means winning\n",
    "    for line in f:\n",
    "        if line[2] == 'Z':\n",
    "            # We add 6 points for winning\n",
    "            total = total + 6\n",
    "            # Depending on our opponents move, we choose rock (1 point), paper (2 points), or scizzors (3 points) to win\n",
    "            if line[0] == 'A':\n",
    "                total = total + 2\n",
    "            if line[0] == 'B':\n",
    "                total = total + 3\n",
    "            if line[0] == 'C':\n",
    "                total = total + 1\n",
    "            # Draw scenario, +3 points\n",
    "        if line[2] == 'Y':\n",
    "            total = total + 3\n",
    "            # Selecting and adding points for moves that will result in a draw\n",
    "            if line[0] == 'A':\n",
    "                total = total + 1\n",
    "            if line[0] == 'B':\n",
    "                total = total + 2\n",
    "            if line[0] == 'C':\n",
    "                total = total + 3\n",
    "            # Losing scenario, +1 point\n",
    "        if line[2] == 'X':\n",
    "            # We implement the same logic again\n",
    "            total = total + 0\n",
    "            if line[0] == 'A':\n",
    "                total = total + 3\n",
    "            if line[0] == 'B':\n",
    "                total = total + 1\n",
    "            if line[0] == 'C':\n",
    "                total = total + 2\n",
    "# Printing the total amount of points\n",
    "print(total)\n",
    "\n",
    "# Printing the time it took to run the code\n",
    "end = timer()\n",
    "print(timedelta(seconds=end-start))"
   ]
  }
 ],
 "metadata": {
  "kernelspec": {
   "display_name": "Python 3.10.6 64-bit",
   "language": "python",
   "name": "python3"
  },
  "language_info": {
   "codemirror_mode": {
    "name": "ipython",
    "version": 3
   },
   "file_extension": ".py",
   "mimetype": "text/x-python",
   "name": "python",
   "nbconvert_exporter": "python",
   "pygments_lexer": "ipython3",
   "version": "3.10.6"
  },
  "orig_nbformat": 4,
  "vscode": {
   "interpreter": {
    "hash": "bb63a77499ed5899fffa71b49f0fc3f4df2c625891c3993c985b13a523c87e61"
   }
  }
 },
 "nbformat": 4,
 "nbformat_minor": 2
}
