{
 "cells": [
  {
   "cell_type": "code",
   "execution_count": 17,
   "metadata": {},
   "outputs": [
    {
     "name": "stdout",
     "output_type": "stream",
     "text": [
      "200\n",
      "394\n"
     ]
    }
   ],
   "source": [
    "with open('input.txt') as f:\n",
    "    lines = f.readlines()\n",
    "    loc = '/'\n",
    "# total_lines will be the total amount of lines, so we get a way to go through them and stop\n",
    "    total_lines = len(lines)\n",
    "#TODO: read first line, add len of the line to total trees, multiply by 2 to add last line as well\n",
    "    total = 0\n",
    "    total = (len(lines[0]) * 2) + total\n",
    "    print(total)\n",
    "#TODO: read length of all lines, add +2 trees for each (left and right) and substrack 4 trees, 2 per beginning and end of block\n",
    "total = total + (len(lines) * 2) - 4\n",
    "print(total)\n",
    "#TODO: compare tree in each position with same position in previous line. If number is lower, add 1 tree\n",
    "for line in lines:\n",
    "    if line[0] < line[1]:\n",
    "        total = total + 1\n",
    "#TODO: read line from the beginning, add +1 tree if following number is higher.\n",
    "#TODO: read line in reverse, do the ssame as above\n",
    "#TODO: iterate until the end of the file\n",
    "#TODO: reverse the position of all the lines and repeat the process in the third TODO\n",
    "#TODO: sum all the trees and print the result\n"
   ]
  }
 ],
 "metadata": {
  "kernelspec": {
   "display_name": "Python 3.10.6 64-bit",
   "language": "python",
   "name": "python3"
  },
  "language_info": {
   "codemirror_mode": {
    "name": "ipython",
    "version": 3
   },
   "file_extension": ".py",
   "mimetype": "text/x-python",
   "name": "python",
   "nbconvert_exporter": "python",
   "pygments_lexer": "ipython3",
   "version": "3.10.6 (tags/v3.10.6:9c7b4bd, Aug  1 2022, 21:53:49) [MSC v.1932 64 bit (AMD64)]"
  },
  "orig_nbformat": 4,
  "vscode": {
   "interpreter": {
    "hash": "bb63a77499ed5899fffa71b49f0fc3f4df2c625891c3993c985b13a523c87e61"
   }
  }
 },
 "nbformat": 4,
 "nbformat_minor": 2
}
