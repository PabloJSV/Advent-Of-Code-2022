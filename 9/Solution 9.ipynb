{
 "cells": [
  {
   "cell_type": "code",
   "execution_count": 3,
   "metadata": {},
   "outputs": [
    {
     "name": "stdout",
     "output_type": "stream",
     "text": [
      "100\n"
     ]
    }
   ],
   "source": [
    "with open('input.txt') as f:\n",
    "    lines = f.readlines()\n",
    "    loc = '/'\n",
    "# total_lines will be the total amount of lines, so we get a way to go through them and stop\n",
    "    total_lines = len(lines)\n",
    "#TODO: read first line, add len of the line to total trees\n",
    "    total = 0\n",
    "    total = len(lines[0]) + total\n",
    "    print(total)\n",
    "#TODO: read second line, add +2 trees (left and right)\n",
    "#TODO: compare tree in each position with same position in previous line. If number is lower, add 1 tree\n",
    "#TODO: read line from the beginning, add +1 tree if following number is higher.\n",
    "#TODO: read line in reverse, do the ssame as above\n",
    "#TODO: iterate until the end of the file\n",
    "#TODO: reverse the position of all the lines and repeat the process in the third TODO\n",
    "#TODO: sum all the trees and print the result\n",
    "    for line in f:\n",
    "        # if line[2:3] == 'ls':\n",
    "        if line[0:3] == 'dir':\n",
    "            print(line)\n"
   ]
  }
 ],
 "metadata": {
  "kernelspec": {
   "display_name": "Python 3.10.6 64-bit",
   "language": "python",
   "name": "python3"
  },
  "language_info": {
   "codemirror_mode": {
    "name": "ipython",
    "version": 3
   },
   "file_extension": ".py",
   "mimetype": "text/x-python",
   "name": "python",
   "nbconvert_exporter": "python",
   "pygments_lexer": "ipython3",
   "version": "3.10.6 (tags/v3.10.6:9c7b4bd, Aug  1 2022, 21:53:49) [MSC v.1932 64 bit (AMD64)]"
  },
  "orig_nbformat": 4,
  "vscode": {
   "interpreter": {
    "hash": "bb63a77499ed5899fffa71b49f0fc3f4df2c625891c3993c985b13a523c87e61"
   }
  }
 },
 "nbformat": 4,
 "nbformat_minor": 2
}
