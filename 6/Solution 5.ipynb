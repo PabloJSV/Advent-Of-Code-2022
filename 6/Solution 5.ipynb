{
 "cells": [
  {
   "cell_type": "code",
   "execution_count": 78,
   "metadata": {},
   "outputs": [
    {
     "name": "stdout",
     "output_type": "stream",
     "text": [
      "['d', 'g', 'm', 's']\n",
      "1987\n"
     ]
    }
   ],
   "source": [
    "# We define the list that will contain the data while we move through the string\n",
    "movinglist = []\n",
    "# We will use n to understand how many letters have been processed until we get the solution right\n",
    "n = 1\n",
    "# Open input.txt, read file\n",
    "with open('input.txt') as f:\n",
    "    # Store the data as a text string\n",
    "    text = f.read()\n",
    "    # For each letter in the string\n",
    "    for letter in text:\n",
    "        # Appending the letter to the list if it's length is less than 4\n",
    "        if len(movinglist) < 4:\n",
    "            movinglist.append(letter)\n",
    "        else:\n",
    "            # If the length of the list is 4, we will remove the first element (last letter to enter the list) and append the new letter\n",
    "            movinglist.pop(0)\n",
    "            movinglist.append(letter)\n",
    "        # If the length of the list is equal to the length of unique values, it means we achieved our objective\n",
    "        if len(movinglist) == len(set(movinglist)):\n",
    "            # Failsafe to avoid lists shorter than 4\n",
    "            if len(movinglist) == 4:\n",
    "                # Get the 4 letters\n",
    "                print(movinglist)\n",
    "                break\n",
    "        # Increase n by 1 for each loop done\n",
    "        n = n + 1\n",
    "        continue\n",
    "\n",
    "# Finally we print n, which is the solution to part 1!\n",
    "print(n)"
   ]
  },
  {
   "cell_type": "code",
   "execution_count": 80,
   "metadata": {},
   "outputs": [
    {
     "name": "stdout",
     "output_type": "stream",
     "text": [
      "['l', 'b', 'q', 'h', 'r', 'g', 'f', 'm', 'v', 'z', 'p', 'c', 't', 'd']\n",
      "3059\n"
     ]
    }
   ],
   "source": [
    "# Part 2\n",
    "# Same scenario, but now we need 14 characters instead!\n",
    "# We define the list that will contain the data while we move through the string\n",
    "movinglist = []\n",
    "# We will use n to understand how many letters have been processed until we get the solution right\n",
    "n = 1\n",
    "# Open input.txt, read file\n",
    "with open('input.txt') as f:\n",
    "    # Store the data as a text string\n",
    "    text = f.read()\n",
    "    # For each letter in the string\n",
    "    for letter in text:\n",
    "        # Appending the letter to the list if it's length is less than 14\n",
    "        if len(movinglist) < 14:\n",
    "            movinglist.append(letter)\n",
    "        else:\n",
    "            # If the length of the list is 14, we will remove the first element (last letter to enter the list) and append the new letter\n",
    "            movinglist.pop(0)\n",
    "            movinglist.append(letter)\n",
    "        # If the length of the list is equal to the length of unique values, it means we achieved our objective\n",
    "        if len(movinglist) == len(set(movinglist)):\n",
    "            # Failsafe to avoid lists shorter than 14\n",
    "            if len(movinglist) == 14:\n",
    "                # Get the 4 letters\n",
    "                print(movinglist)\n",
    "                break\n",
    "        # Increase n by 1 for each loop done\n",
    "        n = n + 1\n",
    "        continue\n",
    "\n",
    "# Finally we print n, which is the solution to part 2!\n",
    "print(n)"
   ]
  }
 ],
 "metadata": {
  "kernelspec": {
   "display_name": "Python 3.10.6 64-bit",
   "language": "python",
   "name": "python3"
  },
  "language_info": {
   "codemirror_mode": {
    "name": "ipython",
    "version": 3
   },
   "file_extension": ".py",
   "mimetype": "text/x-python",
   "name": "python",
   "nbconvert_exporter": "python",
   "pygments_lexer": "ipython3",
   "version": "3.10.6"
  },
  "orig_nbformat": 4,
  "vscode": {
   "interpreter": {
    "hash": "bb63a77499ed5899fffa71b49f0fc3f4df2c625891c3993c985b13a523c87e61"
   }
  }
 },
 "nbformat": 4,
 "nbformat_minor": 2
}
