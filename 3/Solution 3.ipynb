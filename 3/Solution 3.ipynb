{
 "cells": [
  {
   "cell_type": "code",
   "execution_count": 17,
   "metadata": {},
   "outputs": [
    {
     "name": "stdout",
     "output_type": "stream",
     "text": [
      "['J', 'l', 'j', 'q', 'w', 'c', 'r', 'C', 'N', 't', 'R', 'j', 'j', 'V', 'q', 'B', 'f', 'v', 'w', 'T', 'B', 'P', 'r', 'S', 'T', 'H', 'M', 'G', 'T', 'J', 'L', 'p', 'W', 'n', 'P', 'Z', 'p', 'C', 'N', 'b', 'd', 'D', 'F', 'G', 'T', 'P', 'd', 'j', 'F', 'q', 'P', 'D', 'r', 'h', 'Z', 'w', 'l', 'G', 'F', 'W', 'j', 'q', 'c', 's', 'c', 'p', 't', 'N', 'R', 'J', 'd', 'j', 'v', 'F', 'C', 'S', 'L', 's', 'V', 'f', 'm', 'R', 'F', 'z', 'B', 'N', 'F', 'r', 't', 'h', 'q', 'd', 'R', 'f', 'P', 'N', 'R', 'V', 'f', 'S', 'H', 'B', 'f', 'V', 'z', 'j', 'd', 'V', 'H', 'Q', 'q', 'l', 'r', 'B', 'B', 'q', 'z', 'G', 'c', 'H', 'D', 'w', 't', 'R', 'V', 'l', 'z', 'B', 'H', 'W', 'R', 'r', 'j', 'n', 'L', 'f', 'c', 'Q', 'C', 'b', 'W', 'c', 'S', 'R', 'm', 'B', 'r', 'v', 'r', 'n', 'M', 'h', 'Z', 'v', 'w', 'm', 'W', 's', 'r', 'n', 'M', 'W', 'b', 's', 'v', 'l', 'S', 'f', 'J', 'V', 'Q', 'Q', 'm', 'N', 'q', 'F', 'f', 'L', 'b', 'j', 'H', 'f', 't', 'L', 'Z', 'P', 'S', 's', 'q', 'b', 'Z', 'T', 'n', 'w', 'r', 'Q', 'w', 'n', 'T', 't', 'N', 'H', 'V', 'P', 'C', 'm', 'j', 'f', 'C', 'T', 'Z', 'l', 'd', 'D', 'B', 'M', 'D', 'z', 'J', 'C', 'G', 'N', 'M', 'd', 'p', 'b', 'j', 'D', 'l', 'S', 'm', 'Q', 'B', 't', 'J', 't', 'h', 'V', 'h', 'b', 's', 'V', 'q', 'C', 'm', 'j', 'F', 'b', 'Q', 'b', 'z', 'p', 'c', 'R', 'd', 'j', 'B', 't', 'z', 'n', 't', 'w', 'W', 's', 'H', 'N', 'v', 'S', 'm', 'f', 'j', 'P', 'F', 'c', 'S', 'N', 'w', 'B', 'n', 'D', 'Z', 'm', 'Z', 'd', 'r', 'V', 'q', 'h', 'F', 'n', 'L', 'F', 't', 'M', 'F', 'g', 'S', 'D', 'w', 'J']\n",
      "7863\n",
      "0:00:00.004261\n"
     ]
    }
   ],
   "source": [
    "from timeit import default_timer as timer\n",
    "from datetime import timedelta\n",
    "start = timer()\n",
    "total = 0\n",
    "\n",
    "# Part 1\n",
    "\n",
    "# First, we need to create a dictionary of all the letters and their values\n",
    "letters = {'a':1, 'b':2, 'c':3, 'd':4, 'e':5, 'f':6, 'g':7, 'h':8, 'i':9, 'j':10, 'k':11, 'l':12, 'm':13, 'n':14, 'o':15, 'p':16, 'q':17, 'r':18, 's':19, 't':20, 'u':21, 'v':22, 'w':23, 'x':24, 'y':25, 'z':26, 'A':27, 'B':28, 'C':29, 'D':30, 'E':31, 'F':32, 'G':33, 'H':34, 'I':35, 'J':36, 'K':37, 'L':38, 'M':39, 'N':40, 'O':41, 'P':42, 'Q':43, 'R':44, 'S':45, 'T':46, 'U':47, 'V':48, 'W':49, 'X':50, 'Y':51, 'Z':52}\n",
    "duplicates = []\n",
    "\n",
    "# Then we open the file and read it\n",
    "with open('input.txt') as f:\n",
    "    for line in f:\n",
    "        # We calculate the lens of the line\n",
    "        lens = len(line)\n",
    "        # then we split the line in half\n",
    "        half = lens // 2\n",
    "        # We divide the strings in two halves based on this calculation\n",
    "        first = line[:half]\n",
    "        second = line[half:]\n",
    "        duplicates = duplicates + list(set(first)&set(second))\n",
    "# Now we map the duplicates to the dictionary and sum the values\n",
    "print(duplicates)\n",
    "total = sum(map(letters.get, duplicates))\n",
    "print(total)\n",
    "\n",
    "# Printing the time it took to run the code\n",
    "end = timer()\n",
    "print(timedelta(seconds=end-start))\n",
    "        \n"
   ]
  },
  {
   "cell_type": "code",
   "execution_count": 66,
   "metadata": {},
   "outputs": [
    {
     "name": "stdout",
     "output_type": "stream",
     "text": [
      "['F', 'b', 'v', 'g', 'C', 'm', 'q', 'c', 'R', 'c', 'C', 'R', 's', 'M', 'z', 'g', 'D', 'N', 'q', 'r', 'r', 'm', 'F', 'g', 'm', 'V', 'b', 's', 'V', 'P', 'S', 'r', 'w', 'f', 's', 'Z', 'S', 'F', 'r', 'W', 's', 'g', 'R', 'B', 'B', 'T', 'q', 'd', 'c', 'f', 'L', 'p', 'b', 't', 'C', 'n', 'D', 'V', 'n', 'z', 'B', 'D', 'p', 'm', 'd', 'z', 'Q', 'v', 'd', 'l', 'f', 'C', 'V', 'V', 'R', 'C', 'w', 'S', 'c', 'J', 'z', 'D', 'C', 'g', 'B', 'M', 'h', 'Z', 'R', 'M', 'g', 'D', 'P', 'h', 'H', 'L', 'H', 'l', 'q', 'z']\n",
      "2488\n"
     ]
    }
   ],
   "source": [
    "# Part 2\n",
    "# Now we have to merge the document by groups of 3 lines\n",
    "# Let's open the document again\n",
    "input = (open('input.txt', mode=\"r\"))\n",
    "# Now we define \"lineas\" as the current line and we'll use \"i\" to iterate on them\n",
    "i = 0\n",
    "lineas = input.readlines()\n",
    "# total_lines will be the total amount of lines, so we get a way to go through them and stop\n",
    "total_lines = len(lineas)\n",
    "# We create a list to store the values we want\n",
    "match = []\n",
    "# If we didn't get to the ending line of input.txt\n",
    "while i < total_lines:\n",
    "        # We define a, b, and c as the current line, the next one, and the one after that\n",
    "        a = lineas[i]\n",
    "        b = lineas[i+1]\n",
    "        c = lineas[i+2]\n",
    "        # Match will add a set of the value present in all three lines as a list\n",
    "        match = match + list(set(a) & set(b) & set(c))\n",
    "        # We need to remove the newline character from the list\n",
    "        match.remove('\\n')\n",
    "        # Finally, we add 3 to i so the next iteration will be the next three lines\n",
    "        i = i + 3\n",
    "# We print the list of matches\n",
    "print(match)\n",
    "# We map the matches to the dictionary and sum the values\n",
    "total2 = sum(map(letters.get, match))\n",
    "# Finally, the print the final amount!\n",
    "print(total2)"
   ]
  }
 ],
 "metadata": {
  "kernelspec": {
   "display_name": "Python 3.10.6 64-bit",
   "language": "python",
   "name": "python3"
  },
  "language_info": {
   "codemirror_mode": {
    "name": "ipython",
    "version": 3
   },
   "file_extension": ".py",
   "mimetype": "text/x-python",
   "name": "python",
   "nbconvert_exporter": "python",
   "pygments_lexer": "ipython3",
   "version": "3.10.6"
  },
  "orig_nbformat": 4,
  "vscode": {
   "interpreter": {
    "hash": "bb63a77499ed5899fffa71b49f0fc3f4df2c625891c3993c985b13a523c87e61"
   }
  }
 },
 "nbformat": 4,
 "nbformat_minor": 2
}
