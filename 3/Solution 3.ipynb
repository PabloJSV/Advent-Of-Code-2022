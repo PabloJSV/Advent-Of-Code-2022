{
 "cells": [
  {
   "cell_type": "code",
   "execution_count": 6,
   "metadata": {},
   "outputs": [
    {
     "name": "stdout",
     "output_type": "stream",
     "text": [
      "['J', 'l', 'j', 'q', 'w', 'c', 'r', 'C', 'N', 't', 'R', 'j', 'j', 'V', 'q', 'B', 'f', 'v', 'w', 'T', 'B', 'P', 'r', 'S', 'T', 'H', 'M', 'G', 'T', 'J', 'L', 'p', 'W', 'n', 'P', 'Z', 'p', 'C', 'N', 'b', 'd', 'D', 'F', 'G', 'T', 'P', 'd', 'j', 'F', 'q', 'P', 'D', 'r', 'h', 'Z', 'w', 'l', 'G', 'F', 'W', 'j', 'q', 'c', 's', 'c', 'p', 't', 'N', 'R', 'J', 'd', 'j', 'v', 'F', 'C', 'S', 'L', 's', 'V', 'f', 'm', 'R', 'F', 'z', 'B', 'N', 'F', 'r', 't', 'h', 'q', 'd', 'R', 'f', 'P', 'N', 'R', 'V', 'f', 'S', 'H', 'B', 'f', 'V', 'z', 'j', 'd', 'V', 'H', 'Q', 'q', 'l', 'r', 'B', 'B', 'q', 'z', 'G', 'c', 'H', 'D', 'w', 't', 'R', 'V', 'l', 'z', 'B', 'H', 'W', 'R', 'r', 'j', 'n', 'L', 'f', 'c', 'Q', 'C', 'b', 'W', 'c', 'S', 'R', 'm', 'B', 'r', 'v', 'r', 'n', 'M', 'h', 'Z', 'v', 'w', 'm', 'W', 's', 'r', 'n', 'M', 'W', 'b', 's', 'v', 'l', 'S', 'f', 'J', 'V', 'Q', 'Q', 'm', 'N', 'q', 'F', 'f', 'L', 'b', 'j', 'H', 'f', 't', 'L', 'Z', 'P', 'S', 's', 'q', 'b', 'Z', 'T', 'n', 'w', 'r', 'Q', 'w', 'n', 'T', 't', 'N', 'H', 'V', 'P', 'C', 'm', 'j', 'f', 'C', 'T', 'Z', 'l', 'd', 'D', 'B', 'M', 'D', 'z', 'J', 'C', 'G', 'N', 'M', 'd', 'p', 'b', 'j', 'D', 'l', 'S', 'm', 'Q', 'B', 't', 'J', 't', 'h', 'V', 'h', 'b', 's', 'V', 'q', 'C', 'm', 'j', 'F', 'b', 'Q', 'b', 'z', 'p', 'c', 'R', 'd', 'j', 'B', 't', 'z', 'n', 't', 'w', 'W', 's', 'H', 'N', 'v', 'S', 'm', 'f', 'j', 'P', 'F', 'c', 'S', 'N', 'w', 'B', 'n', 'D', 'Z', 'm', 'Z', 'd', 'r', 'V', 'q', 'h', 'F', 'n', 'L', 'F', 't', 'M', 'F', 'g', 'S', 'D', 'w', 'J']\n",
      "7863\n",
      "0:00:00.003459\n"
     ]
    }
   ],
   "source": [
    "from timeit import default_timer as timer\n",
    "from datetime import timedelta\n",
    "start = timer()\n",
    "total = 0\n",
    "\n",
    "# Part 1\n",
    "\n",
    "# First, we need to create a dictionary of all the letters and their values\n",
    "letters = {'a':1, 'b':2, 'c':3, 'd':4, 'e':5, 'f':6, 'g':7, 'h':8, 'i':9, 'j':10, 'k':11, 'l':12, 'm':13, 'n':14, 'o':15, 'p':16, 'q':17, 'r':18, 's':19, 't':20, 'u':21, 'v':22, 'w':23, 'x':24, 'y':25, 'z':26, 'A':27, 'B':28, 'C':29, 'D':30, 'E':31, 'F':32, 'G':33, 'H':34, 'I':35, 'J':36, 'K':37, 'L':38, 'M':39, 'N':40, 'O':41, 'P':42, 'Q':43, 'R':44, 'S':45, 'T':46, 'U':47, 'V':48, 'W':49, 'X':50, 'Y':51, 'Z':52}\n",
    "duplicates = []\n",
    "\n",
    "# Then we open the file and read it\n",
    "with open('input.txt') as f:\n",
    "    for line in f:\n",
    "        # We calculate the lens of the line\n",
    "        lens = len(line)\n",
    "        # then we split the line in half\n",
    "        half = lens // 2\n",
    "        # We divide the strings in two halves based on this calculation\n",
    "        first = line[:half]\n",
    "        second = line[half:]\n",
    "        duplicates = duplicates + list(set(first)&set(second))\n",
    "# Now we map the duplicates to the dictionary and sum the values\n",
    "print(duplicates)\n",
    "total = sum(map(letters.get, duplicates))\n",
    "print(total)\n",
    "\n",
    "# Printing the time it took to run the code\n",
    "end = timer()\n",
    "print(timedelta(seconds=end-start))\n",
    "        \n"
   ]
  },
  {
   "cell_type": "code",
   "execution_count": 53,
   "metadata": {},
   "outputs": [
    {
     "name": "stdout",
     "output_type": "stream",
     "text": [
      "PPZTzDhJPLqPhqDTqrwQZZWbmCBMJMcsNmCBFWmMcsNb\n",
      "\n"
     ]
    }
   ],
   "source": [
    "# Part 2\n",
    "# Now we have to merge the document by groups of 3 lines\n",
    "# We create an empty variable as string\n",
    "lines = ''\n",
    "line_number = 0\n",
    "# We open the file and read it\n",
    "with open('input.txt') as f:\n",
    "    lines = f.readlines()\n",
    "    duplicates = []\n",
    "    group_duplicates = []\n",
    "    n = 0\n",
    "    for line in lines:\n",
    "        if line != \"\":\n",
    "            first = lines[0 + n]\n",
    "            second = lines[1 + n]\n",
    "            third = lines[2 + n]\n",
    "        else:\n",
    "            n = n + 1\n",
    "    \n",
    "        \n",
    "\n",
    "print(first)"
   ]
  }
 ],
 "metadata": {
  "kernelspec": {
   "display_name": "Python 3.10.6 64-bit",
   "language": "python",
   "name": "python3"
  },
  "language_info": {
   "codemirror_mode": {
    "name": "ipython",
    "version": 3
   },
   "file_extension": ".py",
   "mimetype": "text/x-python",
   "name": "python",
   "nbconvert_exporter": "python",
   "pygments_lexer": "ipython3",
   "version": "3.10.6"
  },
  "orig_nbformat": 4,
  "vscode": {
   "interpreter": {
    "hash": "bb63a77499ed5899fffa71b49f0fc3f4df2c625891c3993c985b13a523c87e61"
   }
  }
 },
 "nbformat": 4,
 "nbformat_minor": 2
}
