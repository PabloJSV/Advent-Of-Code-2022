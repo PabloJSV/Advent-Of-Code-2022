{
 "cells": [
  {
   "cell_type": "code",
   "execution_count": 17,
   "metadata": {},
   "outputs": [
    {
     "name": "stdout",
     "output_type": "stream",
     "text": [
      "620\n",
      "1780\n",
      "4000\n",
      "5400\n"
     ]
    }
   ],
   "source": [
    "with open('input.txt') as f:\n",
    "    lines = f.readlines()\n",
    "    loc = '/'\n",
    "    total = 0\n",
    "    cycle = 0\n",
    "    buffer = 0\n",
    "    strength = 0\n",
    "    buffer2 = 0\n",
    "    total = 0\n",
    "    register_x = 1\n",
    "    for line in lines:\n",
    "        strength = 0\n",
    "        cycle = cycle + 1\n",
    "        register_x = register_x + buffer\n",
    "        buffer = buffer2\n",
    "        buffer2 = 0\n",
    "        # print(cycle)\n",
    "        # if first 4 letters of line are 'noop'\n",
    "        # if line[:4] == 'noop':\n",
    "        #     noopstatus = counter\n",
    "        if line[:4] == 'addx':\n",
    "            buffer2 = buffer2 + int(line[5:8])\n",
    "            # print(line[5:8])\n",
    "            # print(buffer)\n",
    "        strength = register_x * cycle\n",
    "        # print(strength)\n",
    "        #if cycle is 20, 40 or 60:\n",
    "        # if cycle == 5:\n",
    "        #     total = total + strength\n",
    "        #     print(total)\n",
    "        if cycle == 20 or cycle == 40 or cycle == 60 or cycle == 100 or cycle == 140 or cycle == 190 or cycle == 220:\n",
    "            total = total + strength\n",
    "            print(total)\n"
   ]
  }
 ],
 "metadata": {
  "kernelspec": {
   "display_name": "Python 3.10.6 64-bit",
   "language": "python",
   "name": "python3"
  },
  "language_info": {
   "codemirror_mode": {
    "name": "ipython",
    "version": 3
   },
   "file_extension": ".py",
   "mimetype": "text/x-python",
   "name": "python",
   "nbconvert_exporter": "python",
   "pygments_lexer": "ipython3",
   "version": "3.10.6"
  },
  "orig_nbformat": 4,
  "vscode": {
   "interpreter": {
    "hash": "bb63a77499ed5899fffa71b49f0fc3f4df2c625891c3993c985b13a523c87e61"
   }
  }
 },
 "nbformat": 4,
 "nbformat_minor": 2
}
