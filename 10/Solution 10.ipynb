{
 "cells": [
  {
   "cell_type": "code",
   "execution_count": 37,
   "metadata": {},
   "outputs": [
    {
     "name": "stdout",
     "output_type": "stream",
     "text": [
      "600\n",
      "20\n",
      "1720\n",
      "40\n",
      "3880\n",
      "60\n",
      "5180\n",
      "100\n",
      "35\n",
      "24430\n",
      "35\n"
     ]
    }
   ],
   "source": [
    "with open('input.txt') as f:\n",
    "    lines = f.readlines()\n",
    "    loc = '/'\n",
    "    total = 0\n",
    "    cycle = 0\n",
    "    buffer = 0\n",
    "    strength = 0\n",
    "    buffer2 = 0\n",
    "    total = 0\n",
    "    register_x = 0\n",
    "    testingtime = 0\n",
    "    for line in lines:\n",
    "        # cycle starts\n",
    "        strength = 0\n",
    "        cycle = cycle + 1\n",
    "        if line[:4] == 'addx':\n",
    "            testingtime = testingtime + int(line[5:8])\n",
    "        # print(cycle)\n",
    "        # if first 4 letters of line are 'noop'\n",
    "        # if line[:4] == 'noop':\n",
    "        #     noopstatus = counter\n",
    "        if line[:4] == 'addx':\n",
    "            buffer2 = int(line[5:8])\n",
    "            # print(line[5:8])\n",
    "            # print(buffer)\n",
    "        strength = register_x * cycle\n",
    "        # print(strength)\n",
    "        #if cycle is 20, 40 or 60:\n",
    "        # if cycle == 5:\n",
    "        #     total = total + strength\n",
    "        #     print(total)\n",
    "        # Check during the cycle\n",
    "        if cycle == 20 or cycle == 40 or cycle == 60 or cycle == 100 or cycle == 140 or cycle == 190 or cycle == 220:\n",
    "            total = total + strength\n",
    "            print(total)\n",
    "            print(cycle)\n",
    "        # Cycle ends\n",
    "        register_x = register_x + buffer\n",
    "        buffer = buffer2\n",
    "        buffer2 = 0\n",
    "# we have to add cycle 140, 190, 220 to the total\n",
    "print(register_x)\n",
    "cycle_140 = register_x * 140\n",
    "cycle_190 = register_x * 190\n",
    "cycle_220 = register_x * 220\n",
    "\n",
    "total = total + cycle_140 + cycle_190 + cycle_220\n",
    "print(total)\n",
    "print(testingtime)"
   ]
  }
 ],
 "metadata": {
  "kernelspec": {
   "display_name": "Python 3.10.6 64-bit",
   "language": "python",
   "name": "python3"
  },
  "language_info": {
   "codemirror_mode": {
    "name": "ipython",
    "version": 3
   },
   "file_extension": ".py",
   "mimetype": "text/x-python",
   "name": "python",
   "nbconvert_exporter": "python",
   "pygments_lexer": "ipython3",
   "version": "3.10.6"
  },
  "orig_nbformat": 4,
  "vscode": {
   "interpreter": {
    "hash": "bb63a77499ed5899fffa71b49f0fc3f4df2c625891c3993c985b13a523c87e61"
   }
  }
 },
 "nbformat": 4,
 "nbformat_minor": 2
}
