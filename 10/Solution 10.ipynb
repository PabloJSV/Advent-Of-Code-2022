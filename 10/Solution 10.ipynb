{
 "cells": [
  {
   "cell_type": "code",
   "execution_count": 3,
   "metadata": {},
   "outputs": [
    {
     "name": "stdout",
     "output_type": "stream",
     "text": [
      "total amount strength is 3: 13860\n",
      "240\n",
      "13860\n"
     ]
    }
   ],
   "source": [
    "# First we read the input file\n",
    "with open('input.txt') as f:\n",
    "    lines = f.readlines()\n",
    "    loc = '/'\n",
    "    # We define the variables we'll need\n",
    "    # Total score\n",
    "    total = 0\n",
    "    # Current cycle\n",
    "    cycle = 0\n",
    "    # Buffer for the next cycle\n",
    "    buffer = 0\n",
    "    # Strength of the current cycle\n",
    "    strength = 0\n",
    "    # Register X, starting at 1\n",
    "    register_x = 1\n",
    "\n",
    "    for line in lines:\n",
    "        # cycle starts\n",
    "        cycle = cycle + 1\n",
    "        # We check if the line starts with 'addx'\n",
    "        if line[:4] == 'addx':\n",
    "            # We get the value to add to the buffer, as it's added at the end of next cycle\n",
    "            buffer = int(line[5:8])\n",
    "            # We calculate current strength\n",
    "            strength = register_x * (cycle)\n",
    "            # Condition to check cycles of interest\n",
    "            if cycle == 20 or cycle == 60 or cycle == 100 or cycle == 140 or cycle == 180 or cycle == 220:\n",
    "                strength = register_x * (cycle)\n",
    "                # If the cycle is one of the ones we're interested in, we add the strength to the total\n",
    "                total = total + strength\n",
    "                # Control value to check if we arrived to our last cycle of interest\n",
    "                if cycle == 220:\n",
    "                    print(\"total amount strength is 1 : \" + str(total))\n",
    "            # Once this logic is executed, we add a cycle to the total count\n",
    "            cycle = cycle + 1\n",
    "            # Checking again if this cycle is one of the ones we're interested in a repeating the same logic\n",
    "            if cycle == 20 or cycle == 60 or cycle == 100 or cycle == 140 or cycle == 180 or cycle == 220:\n",
    "                strength = register_x * (cycle)\n",
    "                total = total + strength\n",
    "            # Control value to check if we arrived to our last cycle of interest\n",
    "            if cycle == 220:\n",
    "                print(\"total amount strength is 2: \" + str(total))\n",
    "            # We add the buffer to the register X\n",
    "            register_x = register_x + buffer\n",
    "            # We calculate the strength of the current cycle\n",
    "            strength = register_x * (cycle)\n",
    "        else:\n",
    "            # If the line starts with noop instead, we just repeat the check logic and add the strength if positive\n",
    "            if cycle == 20 or cycle == 60 or cycle == 100 or cycle == 140 or cycle == 180 or cycle == 220:\n",
    "                strength = register_x * (cycle) \n",
    "                total = total + strength\n",
    "            # Control value to check if we arrived to our last cycle of interest\n",
    "                if cycle == 220:\n",
    "                    print(\"total amount strength is 3: \" + str(total))\n",
    "                    \n",
    "# Finally we print the end cycle and the total strength\n",
    "print(cycle)\n",
    "print(total)"
   ]
  }
 ],
 "metadata": {
  "kernelspec": {
   "display_name": "Python 3.10.6 64-bit",
   "language": "python",
   "name": "python3"
  },
  "language_info": {
   "codemirror_mode": {
    "name": "ipython",
    "version": 3
   },
   "file_extension": ".py",
   "mimetype": "text/x-python",
   "name": "python",
   "nbconvert_exporter": "python",
   "pygments_lexer": "ipython3",
   "version": "3.10.6"
  },
  "orig_nbformat": 4,
  "vscode": {
   "interpreter": {
    "hash": "bb63a77499ed5899fffa71b49f0fc3f4df2c625891c3993c985b13a523c87e61"
   }
  }
 },
 "nbformat": 4,
 "nbformat_minor": 2
}
