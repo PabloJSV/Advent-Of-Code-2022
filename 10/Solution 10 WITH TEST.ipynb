{
 "cells": [
  {
   "cell_type": "code",
   "execution_count": 70,
   "metadata": {},
   "outputs": [
    {
     "name": "stdout",
     "output_type": "stream",
     "text": [
      "1\n",
      "3\n",
      "80\n",
      "35\n",
      "99\n",
      "88\n",
      "169\n",
      "180\n",
      "68\n",
      "306\n",
      "420\n",
      "21\n",
      "420\n",
      "21\n"
     ]
    }
   ],
   "source": [
    "with open('test.txt') as f:\n",
    "    lines = f.readlines()\n",
    "    loc = '/'\n",
    "    total = 0\n",
    "    cycle = 0\n",
    "    buffer = 0\n",
    "    strength = 0\n",
    "    buffer2 = 0\n",
    "    total = 0\n",
    "    register_x = 1\n",
    "    testingtime = 0\n",
    "    for line in lines:\n",
    "        # cycle starts\n",
    "        strength = 0\n",
    "        cycle = cycle + 1\n",
    "        if line[:4] == 'addx':\n",
    "            testingtime = testingtime + int(line[5:8])\n",
    "            cycle = cycle + 1\n",
    "        # print(cycle)\n",
    "        # if first 4 letters of line are 'noop'\n",
    "        # if line[:4] == 'noop':\n",
    "        #     noopstatus = counter\n",
    "        if line[:4] == 'addx':\n",
    "            buffer2 = int(line[5:8])\n",
    "            # print(buffer2)\n",
    "            # print(str(buffer) + ' buffer1')\n",
    "            # print(line[5:8])\n",
    "            # print(buffer)\n",
    "        strength = register_x * (cycle - 1 )\n",
    "        print(strength)\n",
    "        # print(strength)\n",
    "        # print(strength)\n",
    "        # print(strength)\n",
    "        #if cycle is 20, 40 or 60:\n",
    "        # if cycle == 5:\n",
    "        #     total = total + strength\n",
    "        #     print(total)\n",
    "        # Check during the cycle\n",
    "        if cycle == 21 or cycle == 61 or cycle == 101 or cycle == 141 or cycle == 181 or cycle == 221:\n",
    "            total = total + strength\n",
    "            print(register_x)\n",
    "            print(total)\n",
    "            print(cycle)\n",
    "            break\n",
    "        # Cycle ends\n",
    "        register_x = register_x + buffer\n",
    "        # print('registro x')\n",
    "        # print(register_x)\n",
    "        buffer = buffer2\n",
    "        # print('buffer')\n",
    "        # print(buffer)\n",
    "        buffer2 = 0\n",
    "        # print(buffer)\n",
    "        \n",
    "# we have to add cycle 140, 180, 220 to the total\n",
    "# print(register_x)\n",
    "# cycle_140 = register_x * 140\n",
    "# cycle_180 = register_x * 180\n",
    "# cycle_220 = register_x * 220\n",
    "\n",
    "# total = total + cycle_140 + cycle_180 + cycle_220\n",
    "# print(total)\n",
    "# print(testingtime)"
   ]
  }
 ],
 "metadata": {
  "kernelspec": {
   "display_name": "Python 3.10.6 64-bit",
   "language": "python",
   "name": "python3"
  },
  "language_info": {
   "codemirror_mode": {
    "name": "ipython",
    "version": 3
   },
   "file_extension": ".py",
   "mimetype": "text/x-python",
   "name": "python",
   "nbconvert_exporter": "python",
   "pygments_lexer": "ipython3",
   "version": "3.10.6"
  },
  "orig_nbformat": 4,
  "vscode": {
   "interpreter": {
    "hash": "bb63a77499ed5899fffa71b49f0fc3f4df2c625891c3993c985b13a523c87e61"
   }
  }
 },
 "nbformat": 4,
 "nbformat_minor": 2
}
