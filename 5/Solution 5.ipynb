{
 "cells": [
  {
   "cell_type": "code",
   "execution_count": 3,
   "metadata": {},
   "outputs": [
    {
     "name": "stdout",
     "output_type": "stream",
     "text": [
      "N\n",
      "T\n",
      "B\n",
      "S\n",
      "Q\n",
      "H\n",
      "G\n",
      "R\n"
     ]
    },
    {
     "ename": "NameError",
     "evalue": "name 'part1' is not defined",
     "output_type": "error",
     "traceback": [
      "\u001b[1;31m---------------------------------------------------------------------------\u001b[0m",
      "\u001b[1;31mNameError\u001b[0m                                 Traceback (most recent call last)",
      "Cell \u001b[1;32mIn [3], line 26\u001b[0m\n\u001b[0;32m     24\u001b[0m         \u001b[39mif\u001b[39;00m line[\u001b[39m1\u001b[39m] \u001b[39m!=\u001b[39m \u001b[39m'\u001b[39m\u001b[39m \u001b[39m\u001b[39m'\u001b[39m:\n\u001b[0;32m     25\u001b[0m             \u001b[39mprint\u001b[39m(line[\u001b[39m1\u001b[39m])\n\u001b[1;32m---> 26\u001b[0m \u001b[39mprint\u001b[39m(part1)\n\u001b[0;32m     29\u001b[0m \u001b[39m# input = (open('input.txt', mode=\"r\"))\u001b[39;00m\n\u001b[0;32m     30\u001b[0m \u001b[39m# lineas = input.readlines()\u001b[39;00m\n\u001b[0;32m     31\u001b[0m \u001b[39m# total_lines = len(lineas)\u001b[39;00m\n\u001b[1;32m   (...)\u001b[0m\n\u001b[0;32m     36\u001b[0m \u001b[39m#                 block1 = block1 + list(line[1])\u001b[39;00m\n\u001b[0;32m     37\u001b[0m \u001b[39m#                 n = n + 1\u001b[39;00m\n\u001b[0;32m     38\u001b[0m \u001b[39mprint\u001b[39m(block1)\n",
      "\u001b[1;31mNameError\u001b[0m: name 'part1' is not defined"
     ]
    }
   ],
   "source": [
    "# Part 1\n",
    "block1 = []\n",
    "block2 = []\n",
    "block3 = []\n",
    "block4 = []\n",
    "block5 = []\n",
    "block6 = []\n",
    "block7 = []\n",
    "block8 = []\n",
    "block9 = []\n",
    "n = 0\n",
    "# with open('input.txt') as f:\n",
    "#     for line in f:\n",
    "#         for line in enumerate(line[1:], start=1):\n",
    "#             if line[1] != ' ':\n",
    "#                 block1 = block1 + list(line[1])\n",
    "#                 n = n + 1\n",
    "i = 0\n",
    "with open('input.txt') as f:\n",
    "    lines = f.readlines()\n",
    "# total_lines will be the total amount of lines, so we get a way to go through them and stop\n",
    "    total_lines = len(lines)\n",
    "    for line in lines[:8]:\n",
    "        if line[1] != ' ':\n",
    "            print(line[1])\n",
    "print(part1)\n",
    "    \n",
    "\n",
    "# input = (open('input.txt', mode=\"r\"))\n",
    "# lineas = input.readlines()\n",
    "# total_lines = len(lineas)\n",
    "# with open('input.txt') as f:\n",
    "#     while i < total_lines:\n",
    "#         if line < len(lineas):\n",
    "#             if line[1] != ' ':\n",
    "#                 block1 = block1 + list(line[1])\n",
    "#                 n = n + 1\n",
    "print(block1)"
   ]
  },
  {
   "cell_type": "code",
   "execution_count": null,
   "metadata": {},
   "outputs": [
    {
     "ename": "IndexError",
     "evalue": "list index out of range",
     "output_type": "error",
     "traceback": [
      "\u001b[1;31m---------------------------------------------------------------------------\u001b[0m",
      "\u001b[1;31mIndexError\u001b[0m                                Traceback (most recent call last)",
      "Cell \u001b[1;32mIn [61], line 17\u001b[0m\n\u001b[0;32m     15\u001b[0m right \u001b[39m=\u001b[39m \u001b[39m'\u001b[39m\u001b[39m'\u001b[39m\n\u001b[0;32m     16\u001b[0m left \u001b[39m=\u001b[39m left \u001b[39m+\u001b[39m line[\u001b[39m0\u001b[39m]\n\u001b[1;32m---> 17\u001b[0m right \u001b[39m=\u001b[39m right \u001b[39m+\u001b[39m line[\u001b[39m1\u001b[39;49m]\n\u001b[0;32m     18\u001b[0m left_split \u001b[39m=\u001b[39m left\u001b[39m.\u001b[39msplit(\u001b[39m'\u001b[39m\u001b[39m-\u001b[39m\u001b[39m'\u001b[39m)\n\u001b[0;32m     19\u001b[0m left_range \u001b[39m=\u001b[39m range_inclusive(\u001b[39mint\u001b[39m(left_split[\u001b[39m0\u001b[39m]), \u001b[39mint\u001b[39m(left_split[\u001b[39m1\u001b[39m]))\n",
      "\u001b[1;31mIndexError\u001b[0m: list index out of range"
     ]
    }
   ],
   "source": [
    "# Part 2\n",
    "\n",
    "# We begin opening input.txt\n",
    "def range_inclusive(start, end):\n",
    "     return range(start, end+1)\n",
    "left = ''\n",
    "right = ''\n",
    "total = 0\n",
    "with open('input.txt') as f:\n",
    "    for line in f:\n",
    "        # we split the line in two parts, before and after ','\n",
    "        line = line.split(',')\n",
    "        # we append the first part to the first list\n",
    "        left = ''\n",
    "        right = ''\n",
    "        left = left + line[0]\n",
    "        right = right + line[1]\n",
    "        left_split = left.split('-')\n",
    "        left_range = range_inclusive(int(left_split[0]), int(left_split[1]))\n",
    "        print(left_range)\n",
    "        right_split = right.split('-')\n",
    "        right_range = range_inclusive(int(right_split[0]), int(right_split[1]))\n",
    "        print(right_range)\n",
    "        if set((left_range)).intersection(right_range):\n",
    "            print(True)\n",
    "            total = total + 1\n",
    "        elif set((right_range)).intersection(left_range):\n",
    "            print(True)\n",
    "            total = total + 1\n",
    "        left = ''\n",
    "        right = ''\n",
    "print(total)\n",
    "print(set(left_range))\n",
    "print(set(right_range))\n"
   ]
  }
 ],
 "metadata": {
  "kernelspec": {
   "display_name": "Python 3.10.6 64-bit",
   "language": "python",
   "name": "python3"
  },
  "language_info": {
   "codemirror_mode": {
    "name": "ipython",
    "version": 3
   },
   "file_extension": ".py",
   "mimetype": "text/x-python",
   "name": "python",
   "nbconvert_exporter": "python",
   "pygments_lexer": "ipython3",
   "version": "3.10.6"
  },
  "orig_nbformat": 4,
  "vscode": {
   "interpreter": {
    "hash": "bb63a77499ed5899fffa71b49f0fc3f4df2c625891c3993c985b13a523c87e61"
   }
  }
 },
 "nbformat": 4,
 "nbformat_minor": 2
}
